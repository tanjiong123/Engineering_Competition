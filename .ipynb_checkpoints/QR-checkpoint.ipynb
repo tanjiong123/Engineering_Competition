{
 "cells": [
  {
   "cell_type": "code",
   "execution_count": 1,
   "id": "53604c49-2c69-4a1e-aa3d-bc86f0e67b6c",
   "metadata": {},
   "outputs": [],
   "source": [
    "import cv2\n",
    "import ipywidgets.widgets as widgets\n",
    "import time\n",
    "from pyzbar import pyzbar"
   ]
  },
  {
   "cell_type": "code",
   "execution_count": 2,
   "id": "97237fb9-b7a6-439a-9f9a-b954d370c847",
   "metadata": {},
   "outputs": [],
   "source": [
    "# 设置画帧显示参数\n",
    "frame_width = 640\n",
    "frame_height = 360\n",
    "FPS = 30"
   ]
  },
  {
   "cell_type": "code",
   "execution_count": 3,
   "id": "e7e22bbc-7ea5-467b-a221-9cd5584ad786",
   "metadata": {},
   "outputs": [
    {
     "data": {
      "application/vnd.jupyter.widget-view+json": {
       "model_id": "0468a676263c478bb7bd3c005a9aaef5",
       "version_major": 2,
       "version_minor": 0
      },
      "text/plain": [
       "Image(value=b'', format='jpeg', height='360', width='640')"
      ]
     },
     "metadata": {},
     "output_type": "display_data"
    }
   ],
   "source": [
    "# 初始化显示控件\n",
    "image_widget = widgets.Image(format='jpeg', width=frame_width, height=frame_height)\n",
    "display(image_widget)"
   ]
  },
  {
   "cell_type": "code",
   "execution_count": 4,
   "id": "30687ed3-e883-4609-8676-402c70589156",
   "metadata": {},
   "outputs": [],
   "source": [
    "# 格式转换函数\n",
    "import enum\n",
    "def bgr8_to_jpeg(value, quality=75):\n",
    "    return bytes(cv2.imencode('.jpg', value)[1])"
   ]
  },
  {
   "cell_type": "code",
   "execution_count": 5,
   "id": "b8de3ceb-0099-41d9-ab4a-380d1d5fc51f",
   "metadata": {},
   "outputs": [],
   "source": [
    "# 初始化摄像头\n",
    "cap = cv2.VideoCapture(0)\n",
    "cap.set(cv2.CAP_PROP_FRAME_WIDTH,frame_width)       \n",
    "cap.set(cv2.CAP_PROP_FRAME_HEIGHT,frame_height)\n",
    "cap.set(cv2.CAP_PROP_FPS, FPS)  #设置帧率\n",
    "ret, frame = cap.read()\n",
    "image_widget.value = bgr8_to_jpeg(frame)"
   ]
  },
  {
   "cell_type": "code",
   "execution_count": 6,
   "id": "176a4e46-ab72-45d9-b01c-d0a195e19aa0",
   "metadata": {},
   "outputs": [],
   "source": [
    "def decode_qr_code(image):\n",
    "    # cv2.imshow(\"import\",image)\n",
    "    # 使用pyzbar解码二维码\n",
    "    decoded_objects = pyzbar.decode(image)\n",
    "\n",
    "    for obj in decoded_objects:\n",
    "        # 输出二维码中的数据\n",
    "        print(\"Data:\", obj.data.decode(\"utf-8\"))\n",
    "        # 输出二维码类型\n",
    "        # print(\"Type:\", obj.type)\n",
    "        # 获取二维码的位置\n",
    "        (x, y, w, h) = obj.rect\n",
    "        # 在图像中绘制矩形框\n",
    "        cv2.rectangle(image, (x, y), (x + w, y + h), (0, 255, 0), 2)\n",
    "\n",
    "    return image\n"
   ]
  },
  {
   "cell_type": "code",
   "execution_count": 7,
   "id": "346afcf7-768a-43d4-b725-c4df70446ce5",
   "metadata": {},
   "outputs": [
    {
     "name": "stdout",
     "output_type": "stream",
     "text": [
      "Data: 123+312\n",
      "Data: 123+312\n",
      "Data: 123+312\n",
      "Data: 123+312\n",
      "Data: 123+312\n",
      "Data: 123+312\n",
      "Data: 123+312\n",
      "Data: 123+312\n",
      "Data: 123+312\n",
      "Data: 123+312\n",
      "Data: 123+312\n",
      "Data: 123+312\n",
      "Data: 123+312\n",
      "Data: 123+312\n",
      "Data: 123+312\n",
      "Data: 123+312\n",
      "Data: 123+312\n",
      "Data: 123+312\n",
      "Data: 123+312\n",
      "Data: 123+312\n",
      "Data: 123+312\n",
      "Data: 123+312\n",
      "Data: 123+312\n",
      "Data: 123+312\n",
      "Data: 123+312\n",
      "Data: 123+312\n",
      "Data: 123+312\n",
      "Data: 123+312\n",
      "Data: 123+312\n",
      "Data: 123+312\n",
      "Data: 123+312\n",
      "Data: 123+312\n",
      "Data: 123+312\n",
      "Data: 123+312\n",
      "Data: 123+312\n",
      "Data: 123+312\n",
      "Data: 123+312\n",
      "Data: 123+312\n",
      "Data: 123+312\n",
      "Data: 123+312\n",
      "Data: 123+312\n",
      "Data: 123+312\n",
      "Data: 123+312\n",
      "Data: 123+312\n",
      "Data: 123+312\n",
      "Data: 123+312\n",
      "Data: 123+312\n",
      "Data: 123+312\n",
      "Data: 123+312\n",
      "Data: 123+312\n",
      "Data: 123+312\n",
      "Data: 123+312\n",
      "Data: 123+312\n",
      "Data: 123+312\n",
      "Data: 123+312\n",
      "Data: 123+312\n",
      "Data: 123+312\n",
      "Data: 123+312\n",
      "Data: 123+312\n",
      "Data: 123+312\n",
      "Data: 123+312\n",
      "Data: 123+312\n",
      "Data: 123+312\n",
      "Data: 123+312\n",
      "Data: 123+312\n",
      "Data: 123+312\n",
      "Data: 123+312\n",
      "Data: 123+312\n",
      "Data: 123+312\n",
      "Data: 123+312\n",
      "Data: 123+312\n",
      "Data: 123+312\n",
      "Data: 123+312\n",
      "Data: 123+312\n",
      "Data: 123+312\n",
      "Data: 123+312\n",
      "Data: 123+312\n",
      "Data: 123+312\n",
      "Data: 123+312\n"
     ]
    },
    {
     "ename": "KeyboardInterrupt",
     "evalue": "",
     "output_type": "error",
     "traceback": [
      "\u001b[1;31m---------------------------------------------------------------------------\u001b[0m",
      "\u001b[1;31mKeyboardInterrupt\u001b[0m                         Traceback (most recent call last)",
      "Cell \u001b[1;32mIn[7], line 5\u001b[0m\n\u001b[0;32m      3\u001b[0m \u001b[38;5;66;03m# 调用函数，传入图片路径和颜色类型\u001b[39;00m\n\u001b[0;32m      4\u001b[0m frame \u001b[38;5;241m=\u001b[39m decode_qr_code(frame)\n\u001b[1;32m----> 5\u001b[0m image_widget\u001b[38;5;241m.\u001b[39mvalue \u001b[38;5;241m=\u001b[39m bgr8_to_jpeg(frame)\n\u001b[0;32m      6\u001b[0m time\u001b[38;5;241m.\u001b[39msleep(\u001b[38;5;241m0.010\u001b[39m)\n",
      "Cell \u001b[1;32mIn[4], line 4\u001b[0m, in \u001b[0;36mbgr8_to_jpeg\u001b[1;34m(value, quality)\u001b[0m\n\u001b[0;32m      3\u001b[0m \u001b[38;5;28;01mdef\u001b[39;00m \u001b[38;5;21mbgr8_to_jpeg\u001b[39m(value, quality\u001b[38;5;241m=\u001b[39m\u001b[38;5;241m75\u001b[39m):\n\u001b[1;32m----> 4\u001b[0m     \u001b[38;5;28;01mreturn\u001b[39;00m \u001b[38;5;28mbytes\u001b[39m(cv2\u001b[38;5;241m.\u001b[39mimencode(\u001b[38;5;124m'\u001b[39m\u001b[38;5;124m.jpg\u001b[39m\u001b[38;5;124m'\u001b[39m, value)[\u001b[38;5;241m1\u001b[39m])\n",
      "\u001b[1;31mKeyboardInterrupt\u001b[0m: "
     ]
    }
   ],
   "source": [
    "while 1:\n",
    "    ret, frame = cap.read()\n",
    "    # 调用函数，传入图片路径和颜色类型\n",
    "    frame = decode_qr_code(frame)\n",
    "    image_widget.value = bgr8_to_jpeg(frame)\n",
    "    time.sleep(0.010)"
   ]
  },
  {
   "cell_type": "code",
   "execution_count": 8,
   "id": "cb422f79-0d61-4bbe-a958-4d24d67b7c51",
   "metadata": {},
   "outputs": [],
   "source": [
    "# 释放摄像头资源，多进程控制摄像头必须运行！\n",
    "cap.release()"
   ]
  },
  {
   "cell_type": "code",
   "execution_count": null,
   "id": "3e6a4f39-bbb6-4d52-9875-e08aeb9d8e63",
   "metadata": {},
   "outputs": [],
   "source": []
  }
 ],
 "metadata": {
  "kernelspec": {
   "display_name": "base",
   "language": "python",
   "name": "base"
  },
  "language_info": {
   "codemirror_mode": {
    "name": "ipython",
    "version": 3
   },
   "file_extension": ".py",
   "mimetype": "text/x-python",
   "name": "python",
   "nbconvert_exporter": "python",
   "pygments_lexer": "ipython3",
   "version": "3.11.5"
  }
 },
 "nbformat": 4,
 "nbformat_minor": 5
}
