{
 "cells": [
  {
   "cell_type": "code",
   "execution_count": 1,
   "metadata": {},
   "outputs": [],
   "source": [
    "import cv2\n",
    "import ipywidgets.widgets as widgets\n",
    "import time"
   ]
  },
  {
   "cell_type": "code",
   "execution_count": 2,
   "metadata": {},
   "outputs": [],
   "source": [
    "# 设置画帧显示参数\n",
    "frame_width = 640\n",
    "frame_height = 360\n",
    "FPS = 30"
   ]
  },
  {
   "cell_type": "code",
   "execution_count": 3,
   "metadata": {},
   "outputs": [
    {
     "data": {
      "application/vnd.jupyter.widget-view+json": {
       "model_id": "5fa50eb0f9374f25a94fc58509a6ffa3",
       "version_major": 2,
       "version_minor": 0
      },
      "text/plain": [
       "Image(value=b'', format='jpeg', height='360', width='640')"
      ]
     },
     "metadata": {},
     "output_type": "display_data"
    }
   ],
   "source": [
    "# 初始化显示控件\n",
    "image_widget = widgets.Image(format='jpeg', width=frame_width, height=frame_height)\n",
    "display(image_widget)"
   ]
  },
  {
   "cell_type": "code",
   "execution_count": 4,
   "metadata": {},
   "outputs": [],
   "source": [
    "# 格式转换函数\n",
    "import enum\n",
    "def bgr8_to_jpeg(value, quality=75):\n",
    "    return bytes(cv2.imencode('.jpg', value)[1])"
   ]
  },
  {
   "cell_type": "code",
   "execution_count": 5,
   "metadata": {},
   "outputs": [],
   "source": [
    "# 初始化摄像头\n",
    "cap = cv2.VideoCapture(0)\n",
    "cap.set(cv2.CAP_PROP_FRAME_WIDTH,frame_width)       \n",
    "cap.set(cv2.CAP_PROP_FRAME_HEIGHT,frame_height)\n",
    "cap.set(cv2.CAP_PROP_FPS, FPS)  #设置帧率\n",
    "ret, frame = cap.read()\n",
    "image_widget.value = bgr8_to_jpeg(frame)"
   ]
  },
  {
   "cell_type": "code",
   "execution_count": 6,
   "metadata": {},
   "outputs": [],
   "source": [
    "import numpy as np\n",
    "def detect_and_mark_color_objects(image, color_type):\n",
    "    # 定义颜色范围（根据你指定的颜色类型）\n",
    "    color_ranges = {\n",
    "        \"red\": ([0, 50, 50], [10, 255, 255]),  # 红色范围（HSV）\n",
    "        \"green\": ([40, 50, 50], [80, 255, 255]),  # 绿色范围（HSV）\n",
    "        \"blue\": ([100, 50, 50], [140, 255, 255])  # 蓝色范围（HSV）\n",
    "    }\n",
    "\n",
    "    # 读取图像\n",
    "    hsv = cv2.cvtColor(image, cv2.COLOR_BGR2HSV)\n",
    "\n",
    "    # 根据颜色类型获取颜色范围\n",
    "    lower_color = np.array(color_ranges[color_type][0])\n",
    "    upper_color = np.array(color_ranges[color_type][1])\n",
    "\n",
    "    # 创建颜色掩膜\n",
    "    mask = cv2.inRange(hsv, lower_color, upper_color)\n",
    "\n",
    "    # 使用形态学操作去噪点\n",
    "    mask = cv2.morphologyEx(mask, cv2.MORPH_OPEN, np.ones((5, 5), np.uint8))\n",
    "\n",
    "    # 查找颜色区域的轮廓\n",
    "    contours, _ = cv2.findContours(mask, cv2.RETR_EXTERNAL, cv2.CHAIN_APPROX_SIMPLE)\n",
    "\n",
    "    for contour in contours:\n",
    "        if cv2.contourArea(contour) > 500:  # 忽略小的轮廓区域\n",
    "            # 获取轮廓的边界框\n",
    "            x, y, w, h = cv2.boundingRect(contour)\n",
    "\n",
    "            # 在原图上画出白色矩形框\n",
    "            cv2.rectangle(image, (x, y), (x + w, y + h), (255, 255, 255), 2)\n",
    "\n",
    "            # 计算物体的中心点\n",
    "            center_x = x + w // 2\n",
    "            center_y = y + h // 2\n",
    "\n",
    "            # 在中心点处画白色十字标记\n",
    "            cv2.drawMarker(image, (center_x, center_y), (255, 255, 255), markerType=cv2.MARKER_CROSS, markerSize=20,\n",
    "                           thickness=2)\n",
    "\n",
    "    return image\n"
   ]
  },
  {
   "cell_type": "code",
   "execution_count": 7,
   "metadata": {},
   "outputs": [
    {
     "ename": "KeyboardInterrupt",
     "evalue": "",
     "output_type": "error",
     "traceback": [
      "\u001b[1;31m---------------------------------------------------------------------------\u001b[0m",
      "\u001b[1;31mKeyboardInterrupt\u001b[0m                         Traceback (most recent call last)",
      "Cell \u001b[1;32mIn[7], line 6\u001b[0m\n\u001b[0;32m      4\u001b[0m frame \u001b[38;5;241m=\u001b[39m detect_and_mark_color_objects(frame, \u001b[38;5;124m\"\u001b[39m\u001b[38;5;124mred\u001b[39m\u001b[38;5;124m\"\u001b[39m)  \u001b[38;5;66;03m# 颜色类型可以是 \"red\", \"green\", \"blue\"\u001b[39;00m\n\u001b[0;32m      5\u001b[0m image_widget\u001b[38;5;241m.\u001b[39mvalue \u001b[38;5;241m=\u001b[39m bgr8_to_jpeg(frame)\n\u001b[1;32m----> 6\u001b[0m time\u001b[38;5;241m.\u001b[39msleep(\u001b[38;5;241m0.010\u001b[39m)\n",
      "\u001b[1;31mKeyboardInterrupt\u001b[0m: "
     ]
    }
   ],
   "source": [
    "while 1:\n",
    "    ret, frame = cap.read()\n",
    "    # 调用函数，传入图片路径和颜色类型\n",
    "    frame = detect_and_mark_color_objects(frame, \"red\")  # 颜色类型可以是 \"red\", \"green\", \"blue\"\n",
    "    image_widget.value = bgr8_to_jpeg(frame)\n",
    "    time.sleep(0.010)"
   ]
  },
  {
   "cell_type": "code",
   "execution_count": 8,
   "metadata": {},
   "outputs": [],
   "source": [
    "# 释放摄像头资源，多进程控制摄像头必须运行！\n",
    "cap.release()"
   ]
  },
  {
   "cell_type": "code",
   "execution_count": null,
   "metadata": {},
   "outputs": [],
   "source": []
  }
 ],
 "metadata": {
  "kernelspec": {
   "display_name": "Python 3 (ipykernel)",
   "language": "python",
   "name": "python3"
  },
  "language_info": {
   "codemirror_mode": {
    "name": "ipython",
    "version": 3
   },
   "file_extension": ".py",
   "mimetype": "text/x-python",
   "name": "python",
   "nbconvert_exporter": "python",
   "pygments_lexer": "ipython3",
   "version": "3.11.5"
  }
 },
 "nbformat": 4,
 "nbformat_minor": 4
}
