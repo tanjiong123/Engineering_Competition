{
 "cells": [
  {
   "cell_type": "code",
   "execution_count": 1,
   "id": "d23bf390-1f08-475c-b9c6-3d885825089c",
   "metadata": {},
   "outputs": [],
   "source": [
    "import cv2\n",
    "import ipywidgets.widgets as widgets\n",
    "import time\n",
    "import numpy as np"
   ]
  },
  {
   "cell_type": "code",
   "execution_count": 2,
   "id": "b4d6056b-bef4-4148-be14-d74d2ae9afca",
   "metadata": {},
   "outputs": [],
   "source": [
    "# 设置画帧显示参数\n",
    "frame_width = 640\n",
    "frame_height = 360\n",
    "FPS = 30"
   ]
  },
  {
   "cell_type": "code",
   "execution_count": 3,
   "id": "3a6e0a0a-5f8c-4b48-b523-6671e3fa7bf4",
   "metadata": {},
   "outputs": [
    {
     "data": {
      "application/vnd.jupyter.widget-view+json": {
       "model_id": "73ed8e0331aa43bfbf1745f5080a3473",
       "version_major": 2,
       "version_minor": 0
      },
      "text/plain": [
       "Image(value=b'', format='jpeg', height='360', width='640')"
      ]
     },
     "metadata": {},
     "output_type": "display_data"
    }
   ],
   "source": [
    "# 初始化显示控件\n",
    "image_widget = widgets.Image(format='jpeg', width=frame_width, height=frame_height)\n",
    "display(image_widget)"
   ]
  },
  {
   "cell_type": "code",
   "execution_count": 4,
   "id": "638640c4-3daf-467d-beb8-30280dcdb634",
   "metadata": {},
   "outputs": [],
   "source": [
    "# 格式转换函数\n",
    "import enum\n",
    "def bgr8_to_jpeg(value, quality=75):\n",
    "    return bytes(cv2.imencode('.jpg', value)[1])"
   ]
  },
  {
   "cell_type": "code",
   "execution_count": 5,
   "id": "d86e4b9d-19ba-4991-b442-cf333d39d4af",
   "metadata": {},
   "outputs": [],
   "source": [
    "# 初始化摄像头\n",
    "cap = cv2.VideoCapture(0)\n",
    "cap.set(cv2.CAP_PROP_FRAME_WIDTH,frame_width)       \n",
    "cap.set(cv2.CAP_PROP_FRAME_HEIGHT,frame_height)\n",
    "cap.set(cv2.CAP_PROP_FPS, FPS)  #设置帧率\n",
    "ret, frame = cap.read()\n",
    "image_widget.value = bgr8_to_jpeg(frame)"
   ]
  },
  {
   "cell_type": "code",
   "execution_count": 6,
   "id": "3c2afed9-1cfa-4192-bfa0-5f9555e90d2d",
   "metadata": {},
   "outputs": [],
   "source": [
    "def detect_circles_and_colors(image):\n",
    "    output = image.copy()\n",
    "\n",
    "    # 转换为灰度图像\n",
    "    gray = cv2.cvtColor(image, cv2.COLOR_BGR2GRAY)\n",
    "\n",
    "    # 使用HoughCircles检测圆，参数主要调整param2，越大越精确\n",
    "    circles = cv2.HoughCircles(gray, cv2.HOUGH_GRADIENT, dp=1.2, minDist=20, param1=50, param2=200, minRadius=0, maxRadius=0)\n",
    "\n",
    "    if circles is not None:\n",
    "        # 将圆坐标和半径转换为整数\n",
    "        circles = np.round(circles[0, :]).astype(\"int\")\n",
    "\n",
    "        # 初始化存储坐标的列表\n",
    "        x_coords = []\n",
    "        y_coords = []\n",
    "\n",
    "        for (x, y, r) in circles:\n",
    "            # 将圆心坐标加入列表\n",
    "            x_coords.append(x)\n",
    "            y_coords.append(y)\n",
    "\n",
    "            # 提取色环区域\n",
    "            mask = np.zeros_like(gray)  # np.zeros_like函数返回与给定数组具有相同形状和类型的新数组，但新数组的所有元素都是0\n",
    "            cv2.circle(mask, (x, y), r, 255, thickness=-1)\n",
    "            masked_image = cv2.bitwise_and(image, image, mask=mask)\n",
    "\n",
    "            # 提取色环区域内的所有像素\n",
    "            pixels = masked_image[mask == 255]\n",
    "            pixels = pixels.reshape(-1, 3)\n",
    "\n",
    "            # 统计红绿蓝三种颜色的像素数量\n",
    "            red_count = np.sum((pixels[:, 2] > 100) & (pixels[:, 1] < 100) & (pixels[:, 0] < 100))\n",
    "            green_count = np.sum((pixels[:, 1] > 100) & (pixels[:, 2] < 100) & (pixels[:, 0] < 100))\n",
    "            blue_count = np.sum((pixels[:, 0] > 100) & (pixels[:, 2] < 100) & (pixels[:, 1] < 100))\n",
    "\n",
    "            # 判断主要颜色\n",
    "            if red_count > green_count and red_count > blue_count:\n",
    "                ring_color = \"Red\"\n",
    "            elif green_count > red_count and green_count > blue_count:\n",
    "                ring_color = \"Green\"\n",
    "            elif blue_count > red_count and blue_count > green_count:\n",
    "                ring_color = \"Blue\"\n",
    "            else:\n",
    "                ring_color = \"Unknown\"\n",
    "\n",
    "        # 计算圆心坐标的平均值\n",
    "        avg_x = int(np.mean(x_coords))\n",
    "        avg_y = int(np.mean(y_coords))\n",
    "\n",
    "        # 在输出图像中绘制平均圆心位置的小十字\n",
    "        cv2.drawMarker(output, (avg_x, avg_y), (0, 0, 0), markerType=cv2.MARKER_CROSS, markerSize=20, thickness=2)\n",
    "    \n",
    "    return output"
   ]
  },
  {
   "cell_type": "code",
   "execution_count": 7,
   "id": "5c64bed1-7e76-42d6-8cdd-0a364d527f66",
   "metadata": {},
   "outputs": [
    {
     "ename": "KeyboardInterrupt",
     "evalue": "",
     "output_type": "error",
     "traceback": [
      "\u001b[1;31m---------------------------------------------------------------------------\u001b[0m",
      "\u001b[1;31mKeyboardInterrupt\u001b[0m                         Traceback (most recent call last)",
      "Cell \u001b[1;32mIn[7], line 2\u001b[0m\n\u001b[0;32m      1\u001b[0m \u001b[38;5;28;01mwhile\u001b[39;00m \u001b[38;5;241m1\u001b[39m:\n\u001b[1;32m----> 2\u001b[0m     ret, frame \u001b[38;5;241m=\u001b[39m cap\u001b[38;5;241m.\u001b[39mread()\n\u001b[0;32m      3\u001b[0m     \u001b[38;5;66;03m# 调用函数，传入图片路径和颜色类型\u001b[39;00m\n\u001b[0;32m      4\u001b[0m     frame \u001b[38;5;241m=\u001b[39m detect_circles_and_colors(frame)\n",
      "\u001b[1;31mKeyboardInterrupt\u001b[0m: "
     ]
    }
   ],
   "source": [
    "while 1:\n",
    "    ret, frame = cap.read()\n",
    "    # 调用函数，传入图片路径和颜色类型\n",
    "    frame = detect_circles_and_colors(frame)\n",
    "    image_widget.value = bgr8_to_jpeg(frame)\n",
    "    time.sleep(0.010)"
   ]
  },
  {
   "cell_type": "code",
   "execution_count": 8,
   "id": "d7347297-9565-4a3c-81b1-a51790d4de84",
   "metadata": {},
   "outputs": [],
   "source": [
    "# 释放摄像头资源，多进程控制摄像头必须运行！\n",
    "cap.release()"
   ]
  },
  {
   "cell_type": "code",
   "execution_count": null,
   "id": "a4d8cf9f-26c0-4a21-9eed-95e269fd4b84",
   "metadata": {},
   "outputs": [],
   "source": []
  }
 ],
 "metadata": {
  "kernelspec": {
   "display_name": "base",
   "language": "python",
   "name": "base"
  },
  "language_info": {
   "codemirror_mode": {
    "name": "ipython",
    "version": 3
   },
   "file_extension": ".py",
   "mimetype": "text/x-python",
   "name": "python",
   "nbconvert_exporter": "python",
   "pygments_lexer": "ipython3",
   "version": "3.11.5"
  }
 },
 "nbformat": 4,
 "nbformat_minor": 5
}
